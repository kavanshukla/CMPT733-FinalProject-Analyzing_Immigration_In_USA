{
 "cells": [
  {
   "cell_type": "markdown",
   "metadata": {
    "deletable": true,
    "editable": true
   },
   "source": [
    "<h1 align=\"center\"><u>Spring 2017 - CMPT 733 - Programming in Big Data - II</u></h3>\n",
    "<h2 align=\"center\">Final Project - Analyzing Immigration in the U.S.A.</h3>\n",
    "<h3 align=\"center\">Analysis of <a href=\"https://www.kaggle.com/nsharan/h-1b-visa\"> H-1B dataset</a> from Kaggle</h3>\n",
    "<h3 align=\"center\">Author : Kavan Shukla</h3>"
   ]
  },
  {
   "cell_type": "markdown",
   "metadata": {
    "deletable": true,
    "editable": true
   },
   "source": [
    "## Data Cleaning:"
   ]
  },
  {
   "cell_type": "code",
   "execution_count": 1,
   "metadata": {
    "collapsed": true,
    "deletable": true,
    "editable": true
   },
   "outputs": [],
   "source": [
    "import numpy as np\n",
    "import pandas as pd\n",
    "from IPython.display import Markdown, display\n",
    "\n",
    "def printme(string):\n",
    "    display(Markdown(string))\n",
    "data = pd.read_csv('h1b_kaggle.csv')\n",
    "data = data.dropna()\n",
    "data.reset_index()\n",
    "\n",
    "data.loc[:,'WORKSITE']=data.loc[:,'WORKSITE'].apply(lambda rec:rec.split(',')[1][1:])\n",
    "\n",
    "def chgNa(rec):           \n",
    "    if (rec=='NA'):         \n",
    "        return 'Someplace'\n",
    "    return rec\n",
    "\n",
    "data.loc[:,'WORKSITE']=data.loc[:,'WORKSITE'].apply(lambda rec: chgNa(rec))\n",
    "\n",
    "data.columns = [\"RECORD\", \"CASE_STATUS\", \"EMPLOYER_NAME\", \n",
    "                            \"SOC_NAME\", \"JOB_TITLE\", \"FULL_TIME_POSITION\", \"PREVAILING_WAGE\", \"YEAR\", \"WORKSITE\", \"lon\", \"lat\"]\n"
   ]
  },
  {
   "cell_type": "code",
   "execution_count": 2,
   "metadata": {
    "collapsed": false,
    "deletable": true,
    "editable": true
   },
   "outputs": [
    {
     "name": "stdout",
     "output_type": "stream",
     "text": [
      "2877765\n",
      "<class 'pandas.core.frame.DataFrame'>\n",
      "Int64Index: 2877765 entries, 0 to 3002444\n",
      "Data columns (total 9 columns):\n",
      "RECORD                int64\n",
      "CASE_STATUS           object\n",
      "EMPLOYER_NAME         object\n",
      "SOC_NAME              object\n",
      "JOB_TITLE             object\n",
      "FULL_TIME_POSITION    object\n",
      "PREVAILING_WAGE       int64\n",
      "YEAR                  int32\n",
      "WORKSITE              object\n",
      "dtypes: int32(1), int64(2), object(6)\n",
      "memory usage: 208.6+ MB\n"
     ]
    }
   ],
   "source": [
    "data.drop('lon', axis=1, inplace=True)\n",
    "data.drop('lat', axis=1, inplace=True)\n",
    "data['YEAR'] = data['YEAR'].astype(int)\n",
    "data['PREVAILING_WAGE'] = data['PREVAILING_WAGE'].astype(long)\n",
    "print len(data)\n",
    "data.info()"
   ]
  },
  {
   "cell_type": "code",
   "execution_count": 3,
   "metadata": {
    "collapsed": false,
    "deletable": true,
    "editable": true
   },
   "outputs": [
    {
     "data": {
      "text/html": [
       "<div>\n",
       "<table border=\"1\" class=\"dataframe\">\n",
       "  <thead>\n",
       "    <tr style=\"text-align: right;\">\n",
       "      <th></th>\n",
       "      <th>RECORD</th>\n",
       "      <th>CASE_STATUS</th>\n",
       "      <th>EMPLOYER_NAME</th>\n",
       "      <th>SOC_NAME</th>\n",
       "      <th>JOB_TITLE</th>\n",
       "      <th>FULL_TIME_POSITION</th>\n",
       "      <th>PREVAILING_WAGE</th>\n",
       "      <th>YEAR</th>\n",
       "      <th>WORKSITE</th>\n",
       "    </tr>\n",
       "  </thead>\n",
       "  <tbody>\n",
       "    <tr>\n",
       "      <th>0</th>\n",
       "      <td>1</td>\n",
       "      <td>CERTIFIED-WITHDRAWN</td>\n",
       "      <td>UNIVERSITY OF MICHIGAN</td>\n",
       "      <td>BIOCHEMISTS AND BIOPHYSICISTS</td>\n",
       "      <td>POSTDOCTORAL RESEARCH FELLOW</td>\n",
       "      <td>N</td>\n",
       "      <td>36067</td>\n",
       "      <td>2016</td>\n",
       "      <td>MICHIGAN</td>\n",
       "    </tr>\n",
       "    <tr>\n",
       "      <th>1</th>\n",
       "      <td>2</td>\n",
       "      <td>CERTIFIED-WITHDRAWN</td>\n",
       "      <td>GOODMAN NETWORKS, INC.</td>\n",
       "      <td>CHIEF EXECUTIVES</td>\n",
       "      <td>CHIEF OPERATING OFFICER</td>\n",
       "      <td>Y</td>\n",
       "      <td>242674</td>\n",
       "      <td>2016</td>\n",
       "      <td>TEXAS</td>\n",
       "    </tr>\n",
       "    <tr>\n",
       "      <th>2</th>\n",
       "      <td>3</td>\n",
       "      <td>CERTIFIED-WITHDRAWN</td>\n",
       "      <td>PORTS AMERICA GROUP, INC.</td>\n",
       "      <td>CHIEF EXECUTIVES</td>\n",
       "      <td>CHIEF PROCESS OFFICER</td>\n",
       "      <td>Y</td>\n",
       "      <td>193066</td>\n",
       "      <td>2016</td>\n",
       "      <td>NEW JERSEY</td>\n",
       "    </tr>\n",
       "    <tr>\n",
       "      <th>3</th>\n",
       "      <td>4</td>\n",
       "      <td>CERTIFIED-WITHDRAWN</td>\n",
       "      <td>GATES CORPORATION, A WHOLLY-OWNED SUBSIDIARY O...</td>\n",
       "      <td>CHIEF EXECUTIVES</td>\n",
       "      <td>REGIONAL PRESIDEN, AMERICAS</td>\n",
       "      <td>Y</td>\n",
       "      <td>220314</td>\n",
       "      <td>2016</td>\n",
       "      <td>COLORADO</td>\n",
       "    </tr>\n",
       "    <tr>\n",
       "      <th>4</th>\n",
       "      <td>5</td>\n",
       "      <td>WITHDRAWN</td>\n",
       "      <td>PEABODY INVESTMENTS CORP.</td>\n",
       "      <td>CHIEF EXECUTIVES</td>\n",
       "      <td>PRESIDENT MONGOLIA AND INDIA</td>\n",
       "      <td>Y</td>\n",
       "      <td>157518</td>\n",
       "      <td>2016</td>\n",
       "      <td>MISSOURI</td>\n",
       "    </tr>\n",
       "  </tbody>\n",
       "</table>\n",
       "</div>"
      ],
      "text/plain": [
       "   RECORD          CASE_STATUS  \\\n",
       "0       1  CERTIFIED-WITHDRAWN   \n",
       "1       2  CERTIFIED-WITHDRAWN   \n",
       "2       3  CERTIFIED-WITHDRAWN   \n",
       "3       4  CERTIFIED-WITHDRAWN   \n",
       "4       5            WITHDRAWN   \n",
       "\n",
       "                                       EMPLOYER_NAME  \\\n",
       "0                             UNIVERSITY OF MICHIGAN   \n",
       "1                             GOODMAN NETWORKS, INC.   \n",
       "2                          PORTS AMERICA GROUP, INC.   \n",
       "3  GATES CORPORATION, A WHOLLY-OWNED SUBSIDIARY O...   \n",
       "4                          PEABODY INVESTMENTS CORP.   \n",
       "\n",
       "                        SOC_NAME                     JOB_TITLE  \\\n",
       "0  BIOCHEMISTS AND BIOPHYSICISTS  POSTDOCTORAL RESEARCH FELLOW   \n",
       "1               CHIEF EXECUTIVES       CHIEF OPERATING OFFICER   \n",
       "2               CHIEF EXECUTIVES         CHIEF PROCESS OFFICER   \n",
       "3               CHIEF EXECUTIVES   REGIONAL PRESIDEN, AMERICAS   \n",
       "4               CHIEF EXECUTIVES  PRESIDENT MONGOLIA AND INDIA   \n",
       "\n",
       "  FULL_TIME_POSITION  PREVAILING_WAGE  YEAR    WORKSITE  \n",
       "0                  N            36067  2016    MICHIGAN  \n",
       "1                  Y           242674  2016       TEXAS  \n",
       "2                  Y           193066  2016  NEW JERSEY  \n",
       "3                  Y           220314  2016    COLORADO  \n",
       "4                  Y           157518  2016    MISSOURI  "
      ]
     },
     "execution_count": 3,
     "metadata": {},
     "output_type": "execute_result"
    }
   ],
   "source": [
    "data.head()"
   ]
  },
  {
   "cell_type": "code",
   "execution_count": 4,
   "metadata": {
    "collapsed": false,
    "deletable": true,
    "editable": true
   },
   "outputs": [
    {
     "data": {
      "text/markdown": [
       "**Employers that have filed maximum number of petitions with Petition Count:**"
      ],
      "text/plain": [
       "<IPython.core.display.Markdown object>"
      ]
     },
     "metadata": {},
     "output_type": "display_data"
    },
    {
     "name": "stdout",
     "output_type": "stream",
     "text": [
      "INFOSYS LIMITED                                    130257\n",
      "TATA CONSULTANCY SERVICES LIMITED                   64273\n",
      "WIPRO LIMITED                                       45673\n",
      "DELOITTE CONSULTING LLP                             35999\n",
      "IBM INDIA PRIVATE LIMITED                           33585\n",
      "ACCENTURE LLP                                       33226\n",
      "MICROSOFT CORPORATION                               25551\n",
      "HCL AMERICA, INC.                                   22488\n",
      "ERNST & YOUNG U.S. LLP                              18094\n",
      "COGNIZANT TECHNOLOGY SOLUTIONS U.S. CORPORATION     17322\n",
      "CAPGEMINI AMERICA INC                               16628\n",
      "GOOGLE INC.                                         16425\n",
      "LARSEN & TOUBRO INFOTECH LIMITED                    14318\n",
      "IGATE TECHNOLOGIES INC.                             12327\n",
      "IBM CORPORATION                                     11976\n",
      "INTEL CORPORATION                                   11390\n",
      "TECH MAHINDRA (AMERICAS),INC.                       10595\n",
      "DELOITTE & TOUCHE LLP                                9284\n",
      "AMAZON CORPORATE LLC                                 8964\n",
      "ORACLE AMERICA, INC.                                 7593\n",
      "Name: EMPLOYER_NAME, dtype: int64\n"
     ]
    }
   ],
   "source": [
    "printme(\"**Employers with most petitions filed along with Petition Count:**\")\n",
    "employerPetitions = data['EMPLOYER_NAME'].value_counts().nlargest(20)\n",
    "print employerPetitions\n",
    "employerPetitions.to_csv('top20_employers_by_#ofPetitions_filed.csv', sep=',', encoding='utf-8')"
   ]
  },
  {
   "cell_type": "code",
   "execution_count": 5,
   "metadata": {
    "collapsed": false,
    "deletable": true,
    "editable": true
   },
   "outputs": [
    {
     "data": {
      "text/markdown": [
       "**States filing the most number of H-1B petitions in decreasing order:**"
      ],
      "text/plain": [
       "<IPython.core.display.Markdown object>"
      ]
     },
     "metadata": {},
     "output_type": "display_data"
    },
    {
     "name": "stdout",
     "output_type": "stream",
     "text": [
      "WORKSITE\n",
      "CALIFORNIA       548539\n",
      "TEXAS            286704\n",
      "NEW YORK         282429\n",
      "NEW JERSEY       206876\n",
      "ILLINOIS         154843\n",
      "MASSACHUSETTS    112659\n",
      "PENNSYLVANIA     103729\n",
      "WASHINGTON       100754\n",
      "FLORIDA          100384\n",
      "GEORGIA           99679\n",
      "dtype: int64\n"
     ]
    },
    {
     "data": {
      "text/markdown": [
       "**States with most number of H-1B petitions approved in decreasing order**"
      ],
      "text/plain": [
       "<IPython.core.display.Markdown object>"
      ]
     },
     "metadata": {},
     "output_type": "display_data"
    },
    {
     "name": "stdout",
     "output_type": "stream",
     "text": [
      "WORKSITE\n",
      "CALIFORNIA       473419\n",
      "TEXAS            248518\n",
      "NEW YORK         242474\n",
      "NEW JERSEY       184982\n",
      "ILLINOIS         137347\n",
      "MASSACHUSETTS     97051\n",
      "PENNSYLVANIA      92825\n",
      "GEORGIA           88620\n",
      "WASHINGTON        88421\n",
      "FLORIDA           87318\n",
      "dtype: int64\n"
     ]
    }
   ],
   "source": [
    "printme (\"**States filing the most number of H-1B petitions in decreasing order:**\")\n",
    "top_filing_states = data.groupby('WORKSITE').size().sort_values(ascending=0).head(10)\n",
    "print top_filing_states\n",
    "\n",
    "top_filing_states.to_csv('top10_states_by_#ofPetitions_filed.csv', sep=',', encoding='utf-8')\n",
    "\n",
    "printme (\"**States with most number of H-1B petitions approved in decreasing order**\")\n",
    "top_filing_states_approved = data[data['CASE_STATUS']=='CERTIFIED'].groupby('WORKSITE').size().sort_values(ascending=0).head(10)\n",
    "print top_filing_states_approved\n",
    "\n",
    "top_filing_states_approved.to_csv('top10_states_by_#ofPetitions_approved.csv', sep=',', encoding='utf-8')"
   ]
  },
  {
   "cell_type": "code",
   "execution_count": 6,
   "metadata": {
    "collapsed": false,
    "deletable": true,
    "editable": true
   },
   "outputs": [
    {
     "data": {
      "text/markdown": [
       "**Top 20 Job titles by number of petitions filed:**"
      ],
      "text/plain": [
       "<IPython.core.display.Markdown object>"
      ]
     },
     "metadata": {},
     "output_type": "display_data"
    },
    {
     "name": "stdout",
     "output_type": "stream",
     "text": [
      "PROGRAMMER ANALYST             243357\n",
      "SOFTWARE ENGINEER              118897\n",
      "COMPUTER PROGRAMMER             68696\n",
      "SYSTEMS ANALYST                 60754\n",
      "SOFTWARE DEVELOPER              41875\n",
      "BUSINESS ANALYST                38781\n",
      "COMPUTER SYSTEMS ANALYST        34036\n",
      "TECHNOLOGY LEAD - US            28307\n",
      "SENIOR SOFTWARE ENGINEER        26617\n",
      "TECHNOLOGY ANALYST - US         26010\n",
      "ASSISTANT PROFESSOR             24436\n",
      "SENIOR CONSULTANT               24120\n",
      "CONSULTANT                      22643\n",
      "PROJECT MANAGER                 19015\n",
      "DATABASE ADMINISTRATOR          16108\n",
      "PHYSICAL THERAPIST              14203\n",
      "RESEARCH ASSOCIATE              13409\n",
      "COMPUTER PROGRAMMER ANALYST     13116\n",
      "ACCOUNTANT                      12934\n",
      "DEVELOPER                       12737\n",
      "Name: JOB_TITLE, dtype: int64\n"
     ]
    }
   ],
   "source": [
    "printme (\"**Top 20 Job titles by number of petitions filed:**\")\n",
    "jobTitles = data['JOB_TITLE'].value_counts().nlargest(20)\n",
    "print jobTitles\n",
    "jobTitles.to_csv('top20_JobTitles_by_#ofPetitions_filed.csv', sep=',', encoding='utf-8')"
   ]
  },
  {
   "cell_type": "code",
   "execution_count": 7,
   "metadata": {
    "collapsed": false,
    "deletable": true,
    "editable": true
   },
   "outputs": [
    {
     "data": {
      "text/markdown": [
       "**Year wise petitions status count:**"
      ],
      "text/plain": [
       "<IPython.core.display.Markdown object>"
      ]
     },
     "metadata": {},
     "output_type": "display_data"
    },
    {
     "name": "stdout",
     "output_type": "stream",
     "text": [
      "YEAR  CASE_STATUS                                       \n",
      "2011  CERTIFIED                                             287638\n",
      "      CERTIFIED-WITHDRAWN                                    10837\n",
      "      DENIED                                                 25986\n",
      "      WITHDRAWN                                               9164\n",
      "2012  CERTIFIED                                             335676\n",
      "      CERTIFIED-WITHDRAWN                                    29728\n",
      "      DENIED                                                 18866\n",
      "      WITHDRAWN                                               9997\n",
      "2013  CERTIFIED                                             366384\n",
      "      CERTIFIED-WITHDRAWN                                    34126\n",
      "      DENIED                                                 10976\n",
      "      PENDING QUALITY AND COMPLIANCE REVIEW - UNASSIGNED        15\n",
      "      WITHDRAWN                                              10926\n",
      "2014  CERTIFIED                                             436985\n",
      "      CERTIFIED-WITHDRAWN                                    35067\n",
      "      DENIED                                                 10816\n",
      "      INVALIDATED                                                1\n",
      "      REJECTED                                                   1\n",
      "      WITHDRAWN                                              15157\n",
      "2015  CERTIFIED                                             531596\n",
      "      CERTIFIED-WITHDRAWN                                    39964\n",
      "      DENIED                                                 10037\n",
      "      WITHDRAWN                                              18523\n",
      "2016  CERTIFIED                                             553835\n",
      "      CERTIFIED-WITHDRAWN                                    45999\n",
      "      DENIED                                                  8480\n",
      "      WITHDRAWN                                              20985\n",
      "Name: RECORD, dtype: int64\n"
     ]
    }
   ],
   "source": [
    "printme ('**Year wise petitions status count:**')\n",
    "caseStatusPerYear = data.groupby(['YEAR','CASE_STATUS']).count()\n",
    "print caseStatusPerYear['RECORD']\n",
    "caseStatusPerYear['RECORD'].to_csv('Petitions_yearly_CaseStatus.csv', sep=',', encoding='utf-8')"
   ]
  },
  {
   "cell_type": "code",
   "execution_count": 8,
   "metadata": {
    "collapsed": false,
    "deletable": true,
    "editable": true
   },
   "outputs": [
    {
     "data": {
      "text/markdown": [
       "**Job Titles with Maximum wages over last 6 years:**"
      ],
      "text/plain": [
       "<IPython.core.display.Markdown object>"
      ]
     },
     "metadata": {},
     "output_type": "display_data"
    },
    {
     "name": "stdout",
     "output_type": "stream",
     "text": [
      "JOB_TITLE\n",
      "DIRECTOR, SOCIAL AND DIGITAL MEDIA                    329139200\n",
      "DIRECTOR OF SRCH ENGINE OPTMZTN/SRCH ENGINE MKTNG     245937120\n",
      "ASSOCIATE DIRECTOR, HEALTH ECONOMICS AND OUTCOMES     221424320\n",
      "AREA MANAGER, PHARMACEUTICAL PACKAGING                212987840\n",
      "SR. WEB INFRASTRUCTURE CONSULT                        208012480\n",
      "PROGRAMMER ANALYST/SAP SRM ANALYST                    207105600\n",
      "DEVELOPER (SOFTWARE SYSTEMS APPLICATIONS)             176560800\n",
      "STAFF CONSULTANT - MICRO                              169507520\n",
      "QAULITY TEST ENGINEER                                 155879360\n",
      "SLAMBERTPA@AOL.COM                                    144589120\n",
      "Name: PREVAILING_WAGE, dtype: int64\n"
     ]
    }
   ],
   "source": [
    "printme (\"**Job Titles with Maximum wages over last 6 years:**\")\n",
    "max_wages_job_titles = data.groupby(['JOB_TITLE'])['PREVAILING_WAGE'].min().sort_values(ascending=0).head(10)\n",
    "print max_wages_job_titles"
   ]
  },
  {
   "cell_type": "code",
   "execution_count": 9,
   "metadata": {
    "collapsed": false,
    "deletable": true,
    "editable": true
   },
   "outputs": [
    {
     "data": {
      "text/markdown": [
       "**Yearly average wages for H-1B class employee:**"
      ],
      "text/plain": [
       "<IPython.core.display.Markdown object>"
      ]
     },
     "metadata": {},
     "output_type": "display_data"
    },
    {
     "name": "stdout",
     "output_type": "stream",
     "text": [
      "YEAR\n",
      "2011    194288\n",
      "2012    176106\n",
      "2013    194009\n",
      "2014    181762\n",
      "2015     91661\n",
      "2016     89016\n",
      "Name: PREVAILING_WAGE, dtype: int64\n"
     ]
    }
   ],
   "source": [
    "printme (\"**Yearly average wages for H-1B class employee:**\")\n",
    "h1b_wages_yearly_trend = data.groupby(['YEAR']).mean()\n",
    "print h1b_wages_yearly_trend['PREVAILING_WAGE']\n",
    "h1b_wages_yearly_trend['PREVAILING_WAGE'].to_csv('h1b_wages_yearly_trend.csv', sep=',', encoding='utf-8')"
   ]
  },
  {
   "cell_type": "code",
   "execution_count": 10,
   "metadata": {
    "collapsed": false,
    "deletable": true,
    "editable": true
   },
   "outputs": [
    {
     "data": {
      "text/markdown": [
       "**Yearly Highest paying employer for DATA SCIENTIST Job Position:**"
      ],
      "text/plain": [
       "<IPython.core.display.Markdown object>"
      ]
     },
     "metadata": {},
     "output_type": "display_data"
    },
    {
     "name": "stdout",
     "output_type": "stream",
     "text": [
      "          EMPLOYER_NAME  PREVAILING_WAGE\n",
      "YEAR                                    \n",
      "2011       TAGGED, INC.           105394\n",
      "2012  ZIONS BANK / ZMSC           139256\n",
      "2013        YAHOO! INC.           157435\n",
      "2014         ZYNGA INC.           152776\n",
      "2015     ZYPMEDIA, INC.           157602\n",
      "2016         ZYNGA INC.           165006\n"
     ]
    }
   ],
   "source": [
    "printme (\"**Yearly Highest paying employer for DATA SCIENTIST Job Position:**\")\n",
    "data_scientist_yearly_max_wage = data[(data['JOB_TITLE']=='DATA SCIENTIST') &  (data['CASE_STATUS']=='CERTIFIED')].groupby(['YEAR']).max()\n",
    "print data_scientist_yearly_max_wage[['EMPLOYER_NAME', 'PREVAILING_WAGE']]\n",
    "data_scientist_yearly_max_wage[['EMPLOYER_NAME', 'PREVAILING_WAGE']].to_csv('data_scientist_yearly_max_wage.csv', sep=',', encoding='utf-8')"
   ]
  },
  {
   "cell_type": "code",
   "execution_count": 11,
   "metadata": {
    "collapsed": false,
    "deletable": true,
    "editable": true
   },
   "outputs": [
    {
     "data": {
      "text/markdown": [
       "**Yearly Average wages for DATA SCIENTIST Job Position:**"
      ],
      "text/plain": [
       "<IPython.core.display.Markdown object>"
      ]
     },
     "metadata": {},
     "output_type": "display_data"
    },
    {
     "name": "stdout",
     "output_type": "stream",
     "text": [
      "YEAR\n",
      "2011    85508.875000\n",
      "2012    91321.315789\n",
      "2013    90072.761468\n",
      "2014    90284.222727\n",
      "2015    91001.748031\n",
      "2016    86628.140394\n",
      "Name: PREVAILING_WAGE, dtype: float64\n"
     ]
    }
   ],
   "source": [
    "printme (\"**Yearly Average wages for DATA SCIENTIST Job Position:**\")\n",
    "data_scientist_yearly_mean_wage = data[(data['JOB_TITLE']=='DATA SCIENTIST') &  (data['CASE_STATUS']=='CERTIFIED')].groupby(['YEAR']).mean()\n",
    "print data_scientist_yearly_mean_wage['PREVAILING_WAGE']\n",
    "data_scientist_yearly_mean_wage['PREVAILING_WAGE'].to_csv('data_scientist_yearly_mean_wage.csv', sep=',', encoding='utf-8')"
   ]
  },
  {
   "cell_type": "code",
   "execution_count": 12,
   "metadata": {
    "collapsed": false,
    "deletable": true,
    "editable": true
   },
   "outputs": [
    {
     "data": {
      "text/markdown": [
       "**States filing the most number of H-1B petitions in decreasing order:**"
      ],
      "text/plain": [
       "<IPython.core.display.Markdown object>"
      ]
     },
     "metadata": {},
     "output_type": "display_data"
    },
    {
     "name": "stdout",
     "output_type": "stream",
     "text": [
      "JOB_TITLE\n",
      "PROGRAMMER ANALYST             243357\n",
      "SOFTWARE ENGINEER              118897\n",
      "COMPUTER PROGRAMMER             68696\n",
      "SYSTEMS ANALYST                 60754\n",
      "SOFTWARE DEVELOPER              41875\n",
      "BUSINESS ANALYST                38781\n",
      "COMPUTER SYSTEMS ANALYST        34036\n",
      "TECHNOLOGY LEAD - US            28307\n",
      "SENIOR SOFTWARE ENGINEER        26617\n",
      "TECHNOLOGY ANALYST - US         26010\n",
      "ASSISTANT PROFESSOR             24436\n",
      "SENIOR CONSULTANT               24120\n",
      "CONSULTANT                      22643\n",
      "PROJECT MANAGER                 19015\n",
      "DATABASE ADMINISTRATOR          16108\n",
      "PHYSICAL THERAPIST              14203\n",
      "RESEARCH ASSOCIATE              13409\n",
      "COMPUTER PROGRAMMER ANALYST     13116\n",
      "ACCOUNTANT                      12934\n",
      "DEVELOPER                       12737\n",
      "dtype: int64\n"
     ]
    }
   ],
   "source": [
    "printme(\"**States filing the most number of H-1B petitions in decreasing order:**\")\n",
    "Job_titles_count = data.groupby('JOB_TITLE').size().sort_values(ascending=0).head(20)\n",
    "print Job_titles_count\n",
    "Job_titles_count.to_csv('Job_titles_count.csv', sep=',', encoding='utf-8')"
   ]
  },
  {
   "cell_type": "code",
   "execution_count": 13,
   "metadata": {
    "collapsed": false,
    "deletable": true,
    "editable": true
   },
   "outputs": [
    {
     "data": {
      "text/html": [
       "<div>\n",
       "<table border=\"1\" class=\"dataframe\">\n",
       "  <thead>\n",
       "    <tr style=\"text-align: right;\">\n",
       "      <th></th>\n",
       "      <th>RECORD</th>\n",
       "      <th>CASE_STATUS</th>\n",
       "      <th>EMPLOYER_NAME</th>\n",
       "      <th>SOC_NAME</th>\n",
       "      <th>JOB_TITLE</th>\n",
       "      <th>FULL_TIME_POSITION</th>\n",
       "      <th>PREVAILING_WAGE</th>\n",
       "      <th>YEAR</th>\n",
       "      <th>WORKSITE</th>\n",
       "    </tr>\n",
       "  </thead>\n",
       "  <tbody>\n",
       "    <tr>\n",
       "      <th>0</th>\n",
       "      <td>1</td>\n",
       "      <td>CERTIFIED-WITHDRAWN</td>\n",
       "      <td>UNIVERSITY OF MICHIGAN</td>\n",
       "      <td>BIOCHEMISTS AND BIOPHYSICISTS</td>\n",
       "      <td>POSTDOCTORAL RESEARCH FELLOW</td>\n",
       "      <td>N</td>\n",
       "      <td>36067</td>\n",
       "      <td>2016</td>\n",
       "      <td>MICHIGAN</td>\n",
       "    </tr>\n",
       "    <tr>\n",
       "      <th>1</th>\n",
       "      <td>2</td>\n",
       "      <td>CERTIFIED-WITHDRAWN</td>\n",
       "      <td>GOODMAN NETWORKS, INC.</td>\n",
       "      <td>CHIEF EXECUTIVES</td>\n",
       "      <td>CHIEF OPERATING OFFICER</td>\n",
       "      <td>Y</td>\n",
       "      <td>242674</td>\n",
       "      <td>2016</td>\n",
       "      <td>TEXAS</td>\n",
       "    </tr>\n",
       "    <tr>\n",
       "      <th>2</th>\n",
       "      <td>3</td>\n",
       "      <td>CERTIFIED-WITHDRAWN</td>\n",
       "      <td>PORTS AMERICA GROUP, INC.</td>\n",
       "      <td>CHIEF EXECUTIVES</td>\n",
       "      <td>CHIEF PROCESS OFFICER</td>\n",
       "      <td>Y</td>\n",
       "      <td>193066</td>\n",
       "      <td>2016</td>\n",
       "      <td>NEW JERSEY</td>\n",
       "    </tr>\n",
       "    <tr>\n",
       "      <th>3</th>\n",
       "      <td>4</td>\n",
       "      <td>CERTIFIED-WITHDRAWN</td>\n",
       "      <td>GATES CORPORATION, A WHOLLY-OWNED SUBSIDIARY O...</td>\n",
       "      <td>CHIEF EXECUTIVES</td>\n",
       "      <td>REGIONAL PRESIDEN, AMERICAS</td>\n",
       "      <td>Y</td>\n",
       "      <td>220314</td>\n",
       "      <td>2016</td>\n",
       "      <td>COLORADO</td>\n",
       "    </tr>\n",
       "    <tr>\n",
       "      <th>4</th>\n",
       "      <td>5</td>\n",
       "      <td>WITHDRAWN</td>\n",
       "      <td>PEABODY INVESTMENTS CORP.</td>\n",
       "      <td>CHIEF EXECUTIVES</td>\n",
       "      <td>PRESIDENT MONGOLIA AND INDIA</td>\n",
       "      <td>Y</td>\n",
       "      <td>157518</td>\n",
       "      <td>2016</td>\n",
       "      <td>MISSOURI</td>\n",
       "    </tr>\n",
       "  </tbody>\n",
       "</table>\n",
       "</div>"
      ],
      "text/plain": [
       "   RECORD          CASE_STATUS  \\\n",
       "0       1  CERTIFIED-WITHDRAWN   \n",
       "1       2  CERTIFIED-WITHDRAWN   \n",
       "2       3  CERTIFIED-WITHDRAWN   \n",
       "3       4  CERTIFIED-WITHDRAWN   \n",
       "4       5            WITHDRAWN   \n",
       "\n",
       "                                       EMPLOYER_NAME  \\\n",
       "0                             UNIVERSITY OF MICHIGAN   \n",
       "1                             GOODMAN NETWORKS, INC.   \n",
       "2                          PORTS AMERICA GROUP, INC.   \n",
       "3  GATES CORPORATION, A WHOLLY-OWNED SUBSIDIARY O...   \n",
       "4                          PEABODY INVESTMENTS CORP.   \n",
       "\n",
       "                        SOC_NAME                     JOB_TITLE  \\\n",
       "0  BIOCHEMISTS AND BIOPHYSICISTS  POSTDOCTORAL RESEARCH FELLOW   \n",
       "1               CHIEF EXECUTIVES       CHIEF OPERATING OFFICER   \n",
       "2               CHIEF EXECUTIVES         CHIEF PROCESS OFFICER   \n",
       "3               CHIEF EXECUTIVES   REGIONAL PRESIDEN, AMERICAS   \n",
       "4               CHIEF EXECUTIVES  PRESIDENT MONGOLIA AND INDIA   \n",
       "\n",
       "  FULL_TIME_POSITION  PREVAILING_WAGE  YEAR    WORKSITE  \n",
       "0                  N            36067  2016    MICHIGAN  \n",
       "1                  Y           242674  2016       TEXAS  \n",
       "2                  Y           193066  2016  NEW JERSEY  \n",
       "3                  Y           220314  2016    COLORADO  \n",
       "4                  Y           157518  2016    MISSOURI  "
      ]
     },
     "execution_count": 13,
     "metadata": {},
     "output_type": "execute_result"
    }
   ],
   "source": [
    "data_ML = data.copy()\n",
    "for col in ['CASE_STATUS', 'EMPLOYER_NAME', 'SOC_NAME', 'JOB_TITLE', 'FULL_TIME_POSITION','WORKSITE']:\n",
    "    data_ML[col] = data_ML[col].astype('category')\n",
    "data_ML.head()"
   ]
  },
  {
   "cell_type": "code",
   "execution_count": 14,
   "metadata": {
    "collapsed": false,
    "deletable": true,
    "editable": true
   },
   "outputs": [
    {
     "data": {
      "text/markdown": [
       "**Categorized Dataframe:**"
      ],
      "text/plain": [
       "<IPython.core.display.Markdown object>"
      ]
     },
     "metadata": {},
     "output_type": "display_data"
    },
    {
     "data": {
      "text/html": [
       "<div>\n",
       "<table border=\"1\" class=\"dataframe\">\n",
       "  <thead>\n",
       "    <tr style=\"text-align: right;\">\n",
       "      <th></th>\n",
       "      <th>RECORD</th>\n",
       "      <th>CASE_STATUS</th>\n",
       "      <th>EMPLOYER_NAME</th>\n",
       "      <th>SOC_NAME</th>\n",
       "      <th>JOB_TITLE</th>\n",
       "      <th>FULL_TIME_POSITION</th>\n",
       "      <th>PREVAILING_WAGE</th>\n",
       "      <th>YEAR</th>\n",
       "      <th>WORKSITE</th>\n",
       "    </tr>\n",
       "  </thead>\n",
       "  <tbody>\n",
       "    <tr>\n",
       "      <th>0</th>\n",
       "      <td>1</td>\n",
       "      <td>1</td>\n",
       "      <td>200035</td>\n",
       "      <td>165</td>\n",
       "      <td>155638</td>\n",
       "      <td>0</td>\n",
       "      <td>36067</td>\n",
       "      <td>2016</td>\n",
       "      <td>22</td>\n",
       "    </tr>\n",
       "    <tr>\n",
       "      <th>1</th>\n",
       "      <td>2</td>\n",
       "      <td>1</td>\n",
       "      <td>78574</td>\n",
       "      <td>248</td>\n",
       "      <td>41362</td>\n",
       "      <td>1</td>\n",
       "      <td>242674</td>\n",
       "      <td>2016</td>\n",
       "      <td>45</td>\n",
       "    </tr>\n",
       "    <tr>\n",
       "      <th>2</th>\n",
       "      <td>3</td>\n",
       "      <td>1</td>\n",
       "      <td>148855</td>\n",
       "      <td>248</td>\n",
       "      <td>41431</td>\n",
       "      <td>1</td>\n",
       "      <td>193066</td>\n",
       "      <td>2016</td>\n",
       "      <td>30</td>\n",
       "    </tr>\n",
       "    <tr>\n",
       "      <th>3</th>\n",
       "      <td>4</td>\n",
       "      <td>1</td>\n",
       "      <td>73925</td>\n",
       "      <td>248</td>\n",
       "      <td>178343</td>\n",
       "      <td>1</td>\n",
       "      <td>220314</td>\n",
       "      <td>2016</td>\n",
       "      <td>5</td>\n",
       "    </tr>\n",
       "    <tr>\n",
       "      <th>4</th>\n",
       "      <td>5</td>\n",
       "      <td>6</td>\n",
       "      <td>144243</td>\n",
       "      <td>248</td>\n",
       "      <td>156922</td>\n",
       "      <td>1</td>\n",
       "      <td>157518</td>\n",
       "      <td>2016</td>\n",
       "      <td>25</td>\n",
       "    </tr>\n",
       "  </tbody>\n",
       "</table>\n",
       "</div>"
      ],
      "text/plain": [
       "   RECORD  CASE_STATUS  EMPLOYER_NAME  SOC_NAME  JOB_TITLE  \\\n",
       "0       1            1         200035       165     155638   \n",
       "1       2            1          78574       248      41362   \n",
       "2       3            1         148855       248      41431   \n",
       "3       4            1          73925       248     178343   \n",
       "4       5            6         144243       248     156922   \n",
       "\n",
       "   FULL_TIME_POSITION  PREVAILING_WAGE  YEAR  WORKSITE  \n",
       "0                   0            36067  2016        22  \n",
       "1                   1           242674  2016        45  \n",
       "2                   1           193066  2016        30  \n",
       "3                   1           220314  2016         5  \n",
       "4                   1           157518  2016        25  "
      ]
     },
     "execution_count": 14,
     "metadata": {},
     "output_type": "execute_result"
    }
   ],
   "source": [
    "printme('**Categorized Dataframe:**')\n",
    "cat_columns = data_ML.select_dtypes(['category']).columns\n",
    "data_ML[cat_columns] = data_ML[cat_columns].apply(lambda x: x.cat.codes)\n",
    "data_ML.head()"
   ]
  },
  {
   "cell_type": "code",
   "execution_count": 15,
   "metadata": {
    "collapsed": false,
    "deletable": true,
    "editable": true
   },
   "outputs": [
    {
     "data": {
      "text/markdown": [
       "**Saving Categorized dataframe to .csv file**"
      ],
      "text/plain": [
       "<IPython.core.display.Markdown object>"
      ]
     },
     "metadata": {},
     "output_type": "display_data"
    }
   ],
   "source": [
    "printme('**Saved Categorized dataframe to .csv file**')\n",
    "data_ML.to_csv('data_ML.csv',encoding='utf-8')"
   ]
  },
  {
   "cell_type": "markdown",
   "metadata": {
    "deletable": true,
    "editable": true
   },
   "source": [
    "# Logistic Regression Model (Multiclass):\n",
    "### Predicting H-1B eligibility(Case_Status Outcome) given a profile with following attributes: \n",
    "#### 'EMPLOYER_NAME', 'SOC_NAME', 'JOB_TITLE', 'FULL_TIME_POSITION', 'PREVAILING_WAGE' and 'WORKSITE'"
   ]
  },
  {
   "cell_type": "code",
   "execution_count": 16,
   "metadata": {
    "collapsed": false,
    "deletable": true,
    "editable": true
   },
   "outputs": [
    {
     "name": "stdout",
     "output_type": "stream",
     "text": [
      "             precision    recall  f1-score   support\n",
      "\n",
      "          0       0.87      1.00      0.93    502388\n",
      "          1       0.00      0.00      0.00     39096\n",
      "          2       0.87      0.01      0.03     17181\n",
      "          4       0.00      0.00      0.00         3\n",
      "          6       0.00      0.00      0.00     16885\n",
      "\n",
      "avg / total       0.79      0.87      0.81    575553\n",
      "\n",
      "0.873302719298\n"
     ]
    }
   ],
   "source": [
    "from sklearn.linear_model import LogisticRegression\n",
    "from sklearn.model_selection import train_test_split\n",
    "from sklearn import metrics\n",
    "\n",
    "train_split, test_split = train_test_split(data_ML, train_size=0.80, random_state=1)\n",
    "\n",
    "data_ML_train = pd.DataFrame(train_split, columns=data_ML.columns)\n",
    "data_ML_test = pd.DataFrame(test_split, columns=data_ML.columns)\n",
    "\n",
    "X_train = data_ML_train[['EMPLOYER_NAME', 'SOC_NAME', 'JOB_TITLE', 'FULL_TIME_POSITION', 'PREVAILING_WAGE', 'WORKSITE']]\n",
    "y_train = data_ML_train['CASE_STATUS']\n",
    "X_test = data_ML_test[['EMPLOYER_NAME', 'SOC_NAME', 'JOB_TITLE', 'FULL_TIME_POSITION', 'PREVAILING_WAGE', 'WORKSITE']]\n",
    "y_test = data_ML_test['CASE_STATUS']\n",
    "lr_model = LogisticRegression(multi_class='multinomial', solver ='newton-cg')\n",
    "lr_model.fit(X_train, y_train)\n",
    "prediction = lr_model.predict(X_test)\n",
    "print(metrics.classification_report(y_test, prediction))\n",
    "print metrics.accuracy_score(y_test, prediction)"
   ]
  },
  {
   "cell_type": "markdown",
   "metadata": {
    "deletable": true,
    "editable": true
   },
   "source": [
    "### Saving the trained Model"
   ]
  },
  {
   "cell_type": "code",
   "execution_count": 17,
   "metadata": {
    "collapsed": false,
    "deletable": true,
    "editable": true
   },
   "outputs": [],
   "source": [
    "import pickle \n",
    "filename = \"LRmodel_100.sav\"\n",
    "pickle.dump(lr_model, open(filename, 'wb'))"
   ]
  },
  {
   "cell_type": "markdown",
   "metadata": {
    "deletable": true,
    "editable": true
   },
   "source": [
    "### Accuracy Score:"
   ]
  },
  {
   "cell_type": "code",
   "execution_count": 18,
   "metadata": {
    "collapsed": false,
    "deletable": true,
    "editable": true
   },
   "outputs": [
    {
     "name": "stdout",
     "output_type": "stream",
     "text": [
      "0.873302719298\n"
     ]
    }
   ],
   "source": [
    "loaded_model = pickle.load(open(filename, 'rb'))\n",
    "result = loaded_model.score(X_test, y_test)\n",
    "print(result)"
   ]
  },
  {
   "cell_type": "code",
   "execution_count": 19,
   "metadata": {
    "collapsed": false,
    "deletable": true,
    "editable": true
   },
   "outputs": [
    {
     "data": {
      "text/markdown": [
       "**Logistic Regression Model (max_iter = 200) Results: **"
      ],
      "text/plain": [
       "<IPython.core.display.Markdown object>"
      ]
     },
     "metadata": {},
     "output_type": "display_data"
    },
    {
     "name": "stdout",
     "output_type": "stream",
     "text": [
      "             precision    recall  f1-score   support\n",
      "\n",
      "          0       0.87      1.00      0.93    502388\n",
      "          1       0.00      0.00      0.00     39096\n",
      "          2       0.87      0.01      0.03     17181\n",
      "          4       0.00      0.00      0.00         3\n",
      "          6       0.00      0.00      0.00     16885\n",
      "\n",
      "avg / total       0.79      0.87      0.81    575553\n",
      "\n",
      "0.873304456757\n"
     ]
    }
   ],
   "source": [
    "printme (\"**Logistic Regression Model (max_iter = 200) Results: **\")\n",
    "lr_model_200 = LogisticRegression(multi_class='multinomial', solver ='newton-cg', max_iter=200)\n",
    "lr_model_200.fit(X_train, y_train)\n",
    "prediction_200 = lr_model_200.predict(X_test)\n",
    "print metrics.classification_report(y_test, prediction_200)\n",
    "print metrics.accuracy_score(y_test, prediction_200)"
   ]
  },
  {
   "cell_type": "code",
   "execution_count": null,
   "metadata": {
    "collapsed": true,
    "deletable": true,
    "editable": true
   },
   "outputs": [],
   "source": []
  }
 ],
 "metadata": {
  "kernelspec": {
   "display_name": "Python 2",
   "language": "python",
   "name": "python2"
  },
  "language_info": {
   "codemirror_mode": {
    "name": "ipython",
    "version": 2
   },
   "file_extension": ".py",
   "mimetype": "text/x-python",
   "name": "python",
   "nbconvert_exporter": "python",
   "pygments_lexer": "ipython2",
   "version": "2.7.13"
  }
 },
 "nbformat": 4,
 "nbformat_minor": 2
}
