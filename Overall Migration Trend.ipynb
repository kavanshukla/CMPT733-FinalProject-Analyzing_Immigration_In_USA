{
 "cells": [
  {
   "cell_type": "code",
   "execution_count": 1,
   "metadata": {
    "collapsed": true
   },
   "outputs": [],
   "source": [
    "import pandas as pd\n",
    "from matplotlib.pyplot import *\n",
    "import numpy as np\n",
    "from scipy.interpolate import *\n",
    "from scipy.stats import *\n"
   ]
  },
  {
   "cell_type": "code",
   "execution_count": 3,
   "metadata": {
    "collapsed": true
   },
   "outputs": [],
   "source": [
    "yl=['FY97','FY98','FY99','FY00','FY01','FY02','FY03','FY04','FY05','FY06','FY07','FY08','FY09','FY10','FY11','FY12','FY13','FY14','FY15','FY16']"
   ]
  },
  {
   "cell_type": "code",
   "execution_count": 4,
   "metadata": {
    "collapsed": true
   },
   "outputs": [],
   "source": [
    "finaltotal=[]\n",
    "noimmi=np.array([])"
   ]
  },
  {
   "cell_type": "code",
   "execution_count": 5,
   "metadata": {
    "collapsed": false
   },
   "outputs": [],
   "source": [
    "for ls in yl:\n",
    "    immixls=pd.read_excel('/Users/militbetai/Desktop/733 Project/FYs97-16_NIVDetailTable.xls',sheetname=ls,skiprows=230,parse_cols='CL')\n",
    "    finaltotal.append(immixls)"
   ]
  },
  {
   "cell_type": "code",
   "execution_count": 7,
   "metadata": {
    "collapsed": false
   },
   "outputs": [
    {
     "name": "stdout",
     "output_type": "stream",
     "text": [
      "[[5942061], [5814153], [6192478], [7141636], [7588778], [5769437], [4881634], [5049099], [5388951], [5836730], [6444285], [6603076], [5804182], [6422751], [7507939], [8927090], [9164349], [9932480], [10891745], [10381491]]\n"
     ]
    }
   ],
   "source": [
    "listvalues=[]\n",
    "for i in range(0,20):\n",
    "    a = list(finaltotal[i].columns.values)\n",
    "    listvalues.append(a)\n",
    "print listvalues"
   ]
  },
  {
   "cell_type": "code",
   "execution_count": 8,
   "metadata": {
    "collapsed": false
   },
   "outputs": [
    {
     "name": "stdout",
     "output_type": "stream",
     "text": [
      "[5942061] FY97\n"
     ]
    }
   ],
   "source": [
    "noimmi = np.array(listvalues)\n",
    "print noimmi[0], yl[0]\n",
    "years=[1997,1998,1999,2000,2001,2002,2003,2004,2005,2006,2007,2008,2009,2010,2011,2012,2013,2014,2015,2016]"
   ]
  },
  {
   "cell_type": "code",
   "execution_count": 9,
   "metadata": {
    "collapsed": false
   },
   "outputs": [
    {
     "name": "stdout",
     "output_type": "stream",
     "text": [
      "[5942061, 5814153, 6192478, 7141636, 7588778, 5769437, 4881634, 5049099, 5388951, 5836730, 6444285, 6603076, 5804182, 6422751, 7507939, 8927090, 9164349, 9932480, 10891745, 10381491]\n"
     ]
    }
   ],
   "source": [
    "total=[]\n",
    "for i in range(0,20):\n",
    "    a=noimmi[i,0]\n",
    "    total.append(a)\n",
    "    \n",
    "np.array(total)\n",
    "print total"
   ]
  },
  {
   "cell_type": "code",
   "execution_count": 10,
   "metadata": {
    "collapsed": false
   },
   "outputs": [],
   "source": [
    "years=pd.Series(years)\n",
    "noimmi=pd.Series(total)"
   ]
  },
  {
   "cell_type": "code",
   "execution_count": 11,
   "metadata": {
    "collapsed": false
   },
   "outputs": [
    {
     "data": {
      "text/plain": [
       "20"
      ]
     },
     "execution_count": 11,
     "metadata": {},
     "output_type": "execute_result"
    }
   ],
   "source": [
    "len(years)"
   ]
  },
  {
   "cell_type": "code",
   "execution_count": 12,
   "metadata": {
    "collapsed": false
   },
   "outputs": [
    {
     "data": {
      "text/plain": [
       "20"
      ]
     },
     "execution_count": 12,
     "metadata": {},
     "output_type": "execute_result"
    }
   ],
   "source": [
    "len(total)"
   ]
  },
  {
   "cell_type": "code",
   "execution_count": 13,
   "metadata": {
    "collapsed": false
   },
   "outputs": [
    {
     "name": "stdout",
     "output_type": "stream",
     "text": [
      "[ 5942061  5814153  6192478  7141636  7588778  5769437  4881634  5049099\n",
      "  5388951  5836730  6444285  6603076  5804182  6422751  7507939  8927090\n",
      "  9164349  9932480 10891745 10381491]\n"
     ]
    }
   ],
   "source": [
    "noimmi=np.array(noimmi)\n",
    "print noimmi"
   ]
  },
  {
   "cell_type": "code",
   "execution_count": 14,
   "metadata": {
    "collapsed": false
   },
   "outputs": [
    {
     "name": "stdout",
     "output_type": "stream",
     "text": [
      "[1997 1998 1999 2000 2001 2002 2003 2004 2005 2006 2007 2008 2009 2010 2011\n",
      " 2012 2013 2014 2015 2016]\n"
     ]
    }
   ],
   "source": [
    "years=np.array(years)\n",
    "print years"
   ]
  },
  {
   "cell_type": "code",
   "execution_count": 15,
   "metadata": {
    "collapsed": true
   },
   "outputs": [],
   "source": [
    "import matplotlib.pyplot as plt\n",
    "import numpy as np\n",
    "from sklearn import datasets, linear_model"
   ]
  },
  {
   "cell_type": "code",
   "execution_count": 16,
   "metadata": {
    "collapsed": false
   },
   "outputs": [
    {
     "name": "stdout",
     "output_type": "stream",
     "text": [
      "[[ 5942061]\n",
      " [ 5814153]\n",
      " [ 6192478]\n",
      " [ 7141636]\n",
      " [ 7588778]\n",
      " [ 5769437]\n",
      " [ 4881634]\n",
      " [ 5049099]\n",
      " [ 5388951]\n",
      " [ 5836730]\n",
      " [ 6444285]\n",
      " [ 6603076]\n",
      " [ 5804182]\n",
      " [ 6422751]\n",
      " [ 7507939]\n",
      " [ 8927090]\n",
      " [ 9164349]\n",
      " [ 9932480]\n",
      " [10891745]\n",
      " [10381491]]\n"
     ]
    }
   ],
   "source": [
    "Y_train=noimmi\n",
    "len(Y_train)\n",
    "Y_train=np.reshape(Y_train,(20,1))\n",
    "Y_train.shape\n",
    "print Y_train"
   ]
  },
  {
   "cell_type": "code",
   "execution_count": 17,
   "metadata": {
    "collapsed": false
   },
   "outputs": [
    {
     "name": "stdout",
     "output_type": "stream",
     "text": [
      "[[1997]\n",
      " [1998]\n",
      " [1999]\n",
      " [2000]\n",
      " [2001]\n",
      " [2002]\n",
      " [2003]\n",
      " [2004]\n",
      " [2005]\n",
      " [2006]\n",
      " [2007]\n",
      " [2008]\n",
      " [2009]\n",
      " [2010]\n",
      " [2011]\n",
      " [2012]\n",
      " [2013]\n",
      " [2014]\n",
      " [2015]\n",
      " [2016]]\n"
     ]
    },
    {
     "data": {
      "text/plain": [
       "(20, 1)"
      ]
     },
     "execution_count": 17,
     "metadata": {},
     "output_type": "execute_result"
    }
   ],
   "source": [
    "X_train=years\n",
    "len(years)\n",
    "X_train=np.reshape(X_train,(20,1))\n",
    "print X_train\n",
    "X_train.shape"
   ]
  },
  {
   "cell_type": "code",
   "execution_count": 18,
   "metadata": {
    "collapsed": true
   },
   "outputs": [],
   "source": [
    "regr = linear_model.LinearRegression()"
   ]
  },
  {
   "cell_type": "code",
   "execution_count": 19,
   "metadata": {
    "collapsed": false
   },
   "outputs": [
    {
     "name": "stdout",
     "output_type": "stream",
     "text": [
      "[[1997]\n",
      " [1998]\n",
      " [1999]\n",
      " [2000]\n",
      " [2001]\n",
      " [2002]\n",
      " [2003]\n",
      " [2004]\n",
      " [2005]\n",
      " [2006]\n",
      " [2007]\n",
      " [2008]\n",
      " [2009]\n",
      " [2010]\n",
      " [2011]\n",
      " [2012]\n",
      " [2013]\n",
      " [2014]\n",
      " [2015]\n",
      " [2016]] [[ 5942061]\n",
      " [ 5814153]\n",
      " [ 6192478]\n",
      " [ 7141636]\n",
      " [ 7588778]\n",
      " [ 5769437]\n",
      " [ 4881634]\n",
      " [ 5049099]\n",
      " [ 5388951]\n",
      " [ 5836730]\n",
      " [ 6444285]\n",
      " [ 6603076]\n",
      " [ 5804182]\n",
      " [ 6422751]\n",
      " [ 7507939]\n",
      " [ 8927090]\n",
      " [ 9164349]\n",
      " [ 9932480]\n",
      " [10891745]\n",
      " [10381491]]\n"
     ]
    }
   ],
   "source": [
    "regr.fit(X_train, Y_train)\n",
    "print X_train, Y_train"
   ]
  },
  {
   "cell_type": "code",
   "execution_count": 20,
   "metadata": {
    "collapsed": false
   },
   "outputs": [
    {
     "data": {
      "text/plain": [
       "array([[ 9470359.19999999]])"
      ]
     },
     "execution_count": 20,
     "metadata": {},
     "output_type": "execute_result"
    }
   ],
   "source": [
    "regr.predict(2017)"
   ]
  },
  {
   "cell_type": "code",
   "execution_count": 21,
   "metadata": {
    "collapsed": false
   },
   "outputs": [
    {
     "data": {
      "text/plain": [
       "array([[ 9697610.81428576]])"
      ]
     },
     "execution_count": 21,
     "metadata": {},
     "output_type": "execute_result"
    }
   ],
   "source": [
    "%matplotlib inline\n",
    "regr.predict(2018)"
   ]
  },
  {
   "cell_type": "code",
   "execution_count": 22,
   "metadata": {
    "collapsed": false
   },
   "outputs": [
    {
     "data": {
      "text/plain": [
       "array([[ 9924862.42857146]])"
      ]
     },
     "execution_count": 22,
     "metadata": {},
     "output_type": "execute_result"
    }
   ],
   "source": [
    "regr.predict(2019)"
   ]
  },
  {
   "cell_type": "code",
   "execution_count": null,
   "metadata": {
    "collapsed": true
   },
   "outputs": [],
   "source": []
  }
 ],
 "metadata": {
  "kernelspec": {
   "display_name": "Python 2",
   "language": "python",
   "name": "python2"
  },
  "language_info": {
   "codemirror_mode": {
    "name": "ipython",
    "version": 2
   },
   "file_extension": ".py",
   "mimetype": "text/x-python",
   "name": "python",
   "nbconvert_exporter": "python",
   "pygments_lexer": "ipython2",
   "version": "2.7.13"
  }
 },
 "nbformat": 4,
 "nbformat_minor": 2
}
