{
 "cells": [
  {
   "cell_type": "code",
   "execution_count": 6,
   "metadata": {
    "collapsed": true
   },
   "outputs": [],
   "source": [
    "import pandas as pd\n",
    "from matplotlib.pyplot import *\n",
    "from scipy.interpolate import *\n",
    "from scipy.stats import *\n",
    "import matplotlib.pyplot as plt\n",
    "import numpy as np\n",
    "from sklearn import datasets, linear_model"
   ]
  },
  {
   "cell_type": "code",
   "execution_count": 7,
   "metadata": {
    "collapsed": true
   },
   "outputs": [],
   "source": [
    "finaltotal=[]\n",
    "noimmi=np.array([])"
   ]
  },
  {
   "cell_type": "code",
   "execution_count": 8,
   "metadata": {
    "collapsed": false
   },
   "outputs": [],
   "source": [
    "top=pd.read_excel('/Users/militbetai/Desktop/733 Project/FYs97-16_NIVDetailTable.xls',sheetname='TOP')"
   ]
  },
  {
   "cell_type": "code",
   "execution_count": 9,
   "metadata": {
    "collapsed": false
   },
   "outputs": [],
   "source": [
    "top\n",
    "in_list=[]\n",
    "gbr_list=[]\n",
    "ja_list=[]\n",
    "ch_list=[]\n",
    "me_list=[]\n",
    "sk_list=[]\n",
    "year_list=[]\n",
    "for i in range (0,20):\n",
    "    x=top['INDIA'][i]\n",
    "    in_list.append(x)\n",
    "\n",
    "for i in range (0,20):\n",
    "    x1=top['GBR'][i]\n",
    "    gbr_list.append(x1)\n",
    "    \n",
    "for i in range (0,20):    \n",
    "    x2=top['JAPAN'][i]\n",
    "    ja_list.append(x2)\n",
    "    \n",
    "for i in range (0,20):    \n",
    "    x3=top['SOUTH KOREA'][i]\n",
    "    sk_list.append(x3)\n",
    "    \n",
    "for i in range (0,20):    \n",
    "    x4=top['MEXICO'][i]\n",
    "    me_list.append(x4)\n",
    "    \n",
    "for i in range (0,20):    \n",
    "    x5=top['CHINA'][i]\n",
    "    ch_list.append(x5)\n",
    "    \n",
    "for i in range (0,20):    \n",
    "    x6=top['YEARS'][i]\n",
    "    year_list.append(x6)    "
   ]
  },
  {
   "cell_type": "code",
   "execution_count": 11,
   "metadata": {
    "collapsed": false
   },
   "outputs": [
    {
     "data": {
      "text/plain": [
       "[31684,\n",
       " 40246,\n",
       " 55062,\n",
       " 61530,\n",
       " 74078,\n",
       " 44012,\n",
       " 42245,\n",
       " 63737,\n",
       " 53579,\n",
       " 64887,\n",
       " 83464,\n",
       " 72517,\n",
       " 55886,\n",
       " 58664,\n",
       " 72438,\n",
       " 80630,\n",
       " 99705,\n",
       " 108817,\n",
       " 119952,\n",
       " 126692]"
      ]
     },
     "execution_count": 11,
     "metadata": {},
     "output_type": "execute_result"
    }
   ],
   "source": [
    "in_list"
   ]
  },
  {
   "cell_type": "code",
   "execution_count": 12,
   "metadata": {
    "collapsed": false
   },
   "outputs": [],
   "source": [
    "india=np.array(in_list)\n",
    "in_train=np.reshape(india,(20,1))\n",
    "in_train\n",
    "\n",
    "year=np.array(year_list)\n",
    "year_train=np.reshape(year,(20,1))\n",
    "year_train\n",
    "\n",
    "gbr=np.array(gbr_list)\n",
    "gbr_train=np.reshape(gbr,(20,1))\n",
    "\n",
    "sk=np.array(sk_list)\n",
    "sk_train=np.reshape(sk,(20,1))\n",
    "\n",
    "ja=np.array(ja_list)\n",
    "ja_train=np.reshape(ja,(20,1))\n",
    "\n",
    "ch=np.array(ch_list)\n",
    "ch_train=np.reshape(ch,(20,1))\n",
    "\n",
    "me=np.array(me_list)\n",
    "me_train=np.reshape(me,(20,1))"
   ]
  },
  {
   "cell_type": "code",
   "execution_count": 13,
   "metadata": {
    "collapsed": false
   },
   "outputs": [
    {
     "data": {
      "text/plain": [
       "(array([ 31684,  40246,  55062,  61530,  74078,  44012,  42245,  63737,\n",
       "         53579,  64887,  83464,  72517,  55886,  58664,  72438,  80630,\n",
       "         99705, 108817, 119952, 126692]),\n",
       " array([1997, 1998, 1999, 2000, 2001, 2002, 2003, 2004, 2005, 2006, 2007,\n",
       "        2008, 2009, 2010, 2011, 2012, 2013, 2014, 2015, 2016]))"
      ]
     },
     "execution_count": 13,
     "metadata": {},
     "output_type": "execute_result"
    }
   ],
   "source": [
    "india, year"
   ]
  },
  {
   "cell_type": "code",
   "execution_count": 14,
   "metadata": {
    "collapsed": true
   },
   "outputs": [],
   "source": [
    "regr = linear_model.LinearRegression()"
   ]
  },
  {
   "cell_type": "code",
   "execution_count": 15,
   "metadata": {
    "collapsed": false
   },
   "outputs": [
    {
     "data": {
      "text/plain": [
       "LinearRegression(copy_X=True, fit_intercept=True, n_jobs=1, normalize=False)"
      ]
     },
     "execution_count": 15,
     "metadata": {},
     "output_type": "execute_result"
    }
   ],
   "source": [
    "regr.fit(year_train, sk_train)"
   ]
  },
  {
   "cell_type": "code",
   "execution_count": 16,
   "metadata": {
    "collapsed": false
   },
   "outputs": [
    {
     "data": {
      "text/plain": [
       "array([[ 3669.56992481]])"
      ]
     },
     "execution_count": 16,
     "metadata": {},
     "output_type": "execute_result"
    }
   ],
   "source": [
    "\n",
    "regr.predict(2019)"
   ]
  },
  {
   "cell_type": "code",
   "execution_count": null,
   "metadata": {
    "collapsed": false
   },
   "outputs": [],
   "source": []
  },
  {
   "cell_type": "code",
   "execution_count": null,
   "metadata": {
    "collapsed": false
   },
   "outputs": [],
   "source": []
  }
 ],
 "metadata": {
  "kernelspec": {
   "display_name": "Python 2",
   "language": "python",
   "name": "python2"
  },
  "language_info": {
   "codemirror_mode": {
    "name": "ipython",
    "version": 2
   },
   "file_extension": ".py",
   "mimetype": "text/x-python",
   "name": "python",
   "nbconvert_exporter": "python",
   "pygments_lexer": "ipython2",
   "version": "2.7.13"
  }
 },
 "nbformat": 4,
 "nbformat_minor": 2
}
